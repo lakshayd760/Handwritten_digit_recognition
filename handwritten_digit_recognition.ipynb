{
 "cells": [
  {
   "cell_type": "code",
   "execution_count": 1,
   "id": "fb048a82",
   "metadata": {},
   "outputs": [],
   "source": [
    "#importing python modules\n",
    "import tensorflow as tf\n",
    "from tensorflow import keras\n",
    "import matplotlib.pyplot as plt\n",
    "%matplotlib inline\n",
    "import numpy as np"
   ]
  },
  {
   "cell_type": "code",
   "execution_count": 2,
   "id": "0f528b0d",
   "metadata": {},
   "outputs": [],
   "source": [
    "#loading and spliting mnist dataset from keras.datasets\n",
    "(X_train, y_train), (X_test,y_test) = keras.datasets.mnist.load_data()"
   ]
  },
  {
   "cell_type": "code",
   "execution_count": 3,
   "id": "fb4088e2",
   "metadata": {},
   "outputs": [
    {
     "data": {
      "text/plain": [
       "60000"
      ]
     },
     "execution_count": 3,
     "metadata": {},
     "output_type": "execute_result"
    }
   ],
   "source": [
    "len(X_train)"
   ]
  },
  {
   "cell_type": "code",
   "execution_count": 5,
   "id": "74674030",
   "metadata": {},
   "outputs": [
    {
     "name": "stdout",
     "output_type": "stream",
     "text": [
      "(60000, 28, 28)\n",
      "(60000,)\n"
     ]
    }
   ],
   "source": [
    "print(X_train.shape)\n",
    "print(y_train.shape)"
   ]
  },
  {
   "cell_type": "code",
   "execution_count": 6,
   "id": "8401d681",
   "metadata": {},
   "outputs": [],
   "source": [
    "#scaling dataset between 0-1\n",
    "X_train = X_train/255"
   ]
  },
  {
   "cell_type": "code",
   "execution_count": 7,
   "id": "0213365e",
   "metadata": {},
   "outputs": [],
   "source": [
    "#reshaping images to 28*28 size\n",
    "X_train = X_train.reshape(len(X_train),28*28)"
   ]
  },
  {
   "cell_type": "code",
   "execution_count": 8,
   "id": "b100840b",
   "metadata": {},
   "outputs": [
    {
     "data": {
      "text/plain": [
       "(60000, 784)"
      ]
     },
     "execution_count": 8,
     "metadata": {},
     "output_type": "execute_result"
    }
   ],
   "source": [
    "X_train.shape "
   ]
  },
  {
   "cell_type": "code",
   "execution_count": 10,
   "id": "27044c8e",
   "metadata": {},
   "outputs": [],
   "source": [
    "X_test = X_test/255\n",
    "X_test = X_test.reshape(len(X_test),28*28)"
   ]
  },
  {
   "cell_type": "code",
   "execution_count": 11,
   "id": "4cb58755",
   "metadata": {},
   "outputs": [],
   "source": [
    "# model.evaluate(X_test, y_test)"
   ]
  },
  {
   "cell_type": "code",
   "execution_count": 12,
   "id": "3c16b09a",
   "metadata": {},
   "outputs": [],
   "source": [
    "# model = keras.Sequential([keras.layers.Dense(100, input_shape=(784,),\n",
    "#                                      activation='relu'),\n",
    "#                          keras.layers.Dense(50, activation='relu'),\n",
    "#                          keras.layers.Dense(10, activation='sigmoid')])\n",
    "\n",
    "# model.compile(optimizer='adam',\n",
    "#               loss='sparse_categorical_crossentropy',\n",
    "#              metrics=['accuracy'])\n",
    "# model.fit(X_train, y_train, epochs = 8)"
   ]
  },
  {
   "cell_type": "code",
   "execution_count": 13,
   "id": "b74ef9b7",
   "metadata": {},
   "outputs": [],
   "source": [
    "# model.evaluate(X_test, y_test)"
   ]
  },
  {
   "cell_type": "code",
   "execution_count": 23,
   "id": "ecbb2f79",
   "metadata": {},
   "outputs": [
    {
     "name": "stdout",
     "output_type": "stream",
     "text": [
      "Epoch 1/25\n",
      "1875/1875 [==============================] - 11s 6ms/step - loss: 0.3683 - accuracy: 0.8893\n",
      "Epoch 2/25\n",
      "1875/1875 [==============================] - 11s 6ms/step - loss: 0.1809 - accuracy: 0.9463\n",
      "Epoch 3/25\n",
      "1875/1875 [==============================] - 11s 6ms/step - loss: 0.1436 - accuracy: 0.9569\n",
      "Epoch 4/25\n",
      "1875/1875 [==============================] - 11s 6ms/step - loss: 0.1224 - accuracy: 0.9625\n",
      "Epoch 5/25\n",
      "1875/1875 [==============================] - 11s 6ms/step - loss: 0.1076 - accuracy: 0.9669\n",
      "Epoch 6/25\n",
      "1875/1875 [==============================] - 11s 6ms/step - loss: 0.0988 - accuracy: 0.9698\n",
      "Epoch 7/25\n",
      "1875/1875 [==============================] - 11s 6ms/step - loss: 0.0908 - accuracy: 0.9721\n",
      "Epoch 8/25\n",
      "1875/1875 [==============================] - 11s 6ms/step - loss: 0.0835 - accuracy: 0.9739\n",
      "Epoch 9/25\n",
      "1875/1875 [==============================] - 11s 6ms/step - loss: 0.0792 - accuracy: 0.9753\n",
      "Epoch 10/25\n",
      "1875/1875 [==============================] - 11s 6ms/step - loss: 0.0769 - accuracy: 0.9757\n",
      "Epoch 11/25\n",
      "1875/1875 [==============================] - 11s 6ms/step - loss: 0.0712 - accuracy: 0.9777\n",
      "Epoch 12/25\n",
      "1875/1875 [==============================] - 11s 6ms/step - loss: 0.0677 - accuracy: 0.9791\n",
      "Epoch 13/25\n",
      "1875/1875 [==============================] - 11s 6ms/step - loss: 0.0651 - accuracy: 0.9794\n",
      "Epoch 14/25\n",
      "1875/1875 [==============================] - 11s 6ms/step - loss: 0.0633 - accuracy: 0.9801\n",
      "Epoch 15/25\n",
      "1875/1875 [==============================] - 11s 6ms/step - loss: 0.0623 - accuracy: 0.9803\n",
      "Epoch 16/25\n",
      "1875/1875 [==============================] - 11s 6ms/step - loss: 0.0593 - accuracy: 0.9814\n",
      "Epoch 17/25\n",
      "1875/1875 [==============================] - 11s 6ms/step - loss: 0.0560 - accuracy: 0.9823\n",
      "Epoch 18/25\n",
      "1875/1875 [==============================] - 11s 6ms/step - loss: 0.0529 - accuracy: 0.9833\n",
      "Epoch 19/25\n",
      "1875/1875 [==============================] - 11s 6ms/step - loss: 0.0541 - accuracy: 0.9828\n",
      "Epoch 20/25\n",
      "1875/1875 [==============================] - 11s 6ms/step - loss: 0.0524 - accuracy: 0.9836\n",
      "Epoch 21/25\n",
      "1875/1875 [==============================] - 11s 6ms/step - loss: 0.0497 - accuracy: 0.9840\n",
      "Epoch 22/25\n",
      "1875/1875 [==============================] - 11s 6ms/step - loss: 0.0536 - accuracy: 0.9819\n",
      "Epoch 23/25\n",
      "1875/1875 [==============================] - 11s 6ms/step - loss: 0.0504 - accuracy: 0.9833\n",
      "Epoch 24/25\n",
      "1875/1875 [==============================] - 11s 6ms/step - loss: 0.0494 - accuracy: 0.9842\n",
      "Epoch 25/25\n",
      "1875/1875 [==============================] - 11s 6ms/step - loss: 0.0476 - accuracy: 0.9841\n"
     ]
    },
    {
     "data": {
      "text/plain": [
       "<keras.callbacks.History at 0x1f147e473d0>"
      ]
     },
     "execution_count": 23,
     "metadata": {},
     "output_type": "execute_result"
    }
   ],
   "source": [
    "callbacks = keras.callbacks.EarlyStopping(monitor='loss', patience=3)\n",
    "\n",
    "model = keras.Sequential([keras.layers.Flatten(input_shape=(784,)),\n",
    "                         keras.layers.Dense(100, activation='relu'),\n",
    "                         keras.layers.Dropout(0.2),\n",
    "                         keras.layers.Dense(50, activation='relu'),\n",
    "                          keras.layers.Dropout(0.2),\n",
    "                         keras.layers.Dense(10, activation='sigmoid')])\n",
    "\n",
    "model.compile(optimizer='adam',\n",
    "              loss='sparse_categorical_crossentropy',\n",
    "             metrics=['accuracy'])\n",
    "model.fit(X_train, y_train, epochs = 25, callbacks=[callbacks])"
   ]
  },
  {
   "cell_type": "code",
   "execution_count": 24,
   "id": "22e3ce57",
   "metadata": {},
   "outputs": [
    {
     "name": "stdout",
     "output_type": "stream",
     "text": [
      "313/313 [==============================] - 1s 3ms/step - loss: 0.0848 - accuracy: 0.9785\n"
     ]
    },
    {
     "data": {
      "text/plain": [
       "[0.08478748053312302, 0.9785000085830688]"
      ]
     },
     "execution_count": 24,
     "metadata": {},
     "output_type": "execute_result"
    }
   ],
   "source": [
    "model.evaluate(X_test, y_test)"
   ]
  },
  {
   "cell_type": "code",
   "execution_count": 42,
   "id": "4bab6bee",
   "metadata": {},
   "outputs": [],
   "source": [
    "path = './finalmodel.h5'\n",
    "model.save(path)"
   ]
  },
  {
   "cell_type": "code",
   "execution_count": 43,
   "id": "1e16de44",
   "metadata": {},
   "outputs": [
    {
     "name": "stdout",
     "output_type": "stream",
     "text": [
      "313/313 [==============================] - 1s 3ms/step - loss: 0.0848 - accuracy: 0.9785\n"
     ]
    },
    {
     "data": {
      "text/plain": [
       "[0.08478748053312302, 0.9785000085830688]"
      ]
     },
     "execution_count": 43,
     "metadata": {},
     "output_type": "execute_result"
    }
   ],
   "source": [
    "model1 = keras.models.load_model(path)\n",
    "model1.evaluate(X_test,y_test)"
   ]
  },
  {
   "cell_type": "code",
   "execution_count": null,
   "id": "c5ed66ec",
   "metadata": {},
   "outputs": [],
   "source": []
  }
 ],
 "metadata": {
  "kernelspec": {
   "display_name": "Python 3 (ipykernel)",
   "language": "python",
   "name": "python3"
  },
  "language_info": {
   "codemirror_mode": {
    "name": "ipython",
    "version": 3
   },
   "file_extension": ".py",
   "mimetype": "text/x-python",
   "name": "python",
   "nbconvert_exporter": "python",
   "pygments_lexer": "ipython3",
   "version": "3.10.7"
  },
  "vscode": {
   "interpreter": {
    "hash": "7fac784ee94bfeafece8031169c90c04879c2d9423d7e528e72cbea9387c8d94"
   }
  }
 },
 "nbformat": 4,
 "nbformat_minor": 5
}
